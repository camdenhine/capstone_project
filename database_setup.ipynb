{
 "cells": [
  {
   "cell_type": "code",
   "execution_count": 1,
   "id": "8b0edd57-452d-4fda-afa8-ed71959c89e8",
   "metadata": {},
   "outputs": [],
   "source": [
    "import pandas as pd\n",
    "import sqlite3 as db\n",
    "from yfapi import YahooFinanceAPI, Interval\n",
    "import datetime\n",
    "import utils"
   ]
  },
  {
   "cell_type": "code",
   "execution_count": 2,
   "id": "d7fb0978-ddad-4605-995f-306df1101911",
   "metadata": {},
   "outputs": [],
   "source": [
    "con = db.connect('database.db')"
   ]
  },
  {
   "cell_type": "code",
   "execution_count": 3,
   "id": "f1a54346-3492-4e34-9a84-9c8613a30b5e",
   "metadata": {},
   "outputs": [],
   "source": [
    "cn = con.cursor()"
   ]
  },
  {
   "cell_type": "code",
   "execution_count": 4,
   "id": "5eb46820-ea19-4c19-af99-5be572524723",
   "metadata": {},
   "outputs": [],
   "source": [
    "coins= ['BTC', 'ETH', 'BNB', 'XRP', 'DOGE', 'LTC', 'WETH', 'SOL', 'SHIB', 'MATIC']"
   ]
  },
  {
   "cell_type": "code",
   "execution_count": 5,
   "id": "34dea6f9-a61c-4cb4-b6ed-a9c89755f99e",
   "metadata": {},
   "outputs": [],
   "source": [
    "now = pd.to_datetime('2022-10-25').date()"
   ]
  },
  {
   "cell_type": "code",
   "execution_count": 6,
   "id": "7e477dfa-f6c6-4306-93b5-353823593749",
   "metadata": {},
   "outputs": [
    {
     "name": "stdout",
     "output_type": "stream",
     "text": [
      "2022-11-25\n"
     ]
    }
   ],
   "source": [
    "print(now)"
   ]
  },
  {
   "cell_type": "code",
   "execution_count": 7,
   "id": "59031f6b-e171-4e55-93bf-4a9c596b9e00",
   "metadata": {},
   "outputs": [],
   "source": [
    "coins_df  = pd.DataFrame()"
   ]
  },
  {
   "cell_type": "code",
   "execution_count": 8,
   "id": "618c9854-21a8-45b9-be7c-44eb77f4380c",
   "metadata": {},
   "outputs": [],
   "source": [
    "coins_df['coin'] = coins"
   ]
  },
  {
   "cell_type": "code",
   "execution_count": 9,
   "id": "57ee090c-c8ad-4f75-b983-b456b15ce923",
   "metadata": {},
   "outputs": [],
   "source": [
    "coins_df['last_predicted'] = now"
   ]
  },
  {
   "cell_type": "code",
   "execution_count": 10,
   "id": "535a9d17-dfc7-49e6-aded-1cfba8fca4e7",
   "metadata": {},
   "outputs": [],
   "source": [
    "coins_df['last_trained'] = now"
   ]
  },
  {
   "cell_type": "code",
   "execution_count": 11,
   "id": "84d3821a-bf62-41eb-8720-d73bd2d8d043",
   "metadata": {},
   "outputs": [
    {
     "data": {
      "text/html": [
       "<div>\n",
       "<style scoped>\n",
       "    .dataframe tbody tr th:only-of-type {\n",
       "        vertical-align: middle;\n",
       "    }\n",
       "\n",
       "    .dataframe tbody tr th {\n",
       "        vertical-align: top;\n",
       "    }\n",
       "\n",
       "    .dataframe thead th {\n",
       "        text-align: right;\n",
       "    }\n",
       "</style>\n",
       "<table border=\"1\" class=\"dataframe\">\n",
       "  <thead>\n",
       "    <tr style=\"text-align: right;\">\n",
       "      <th></th>\n",
       "      <th>coin</th>\n",
       "      <th>last_predicted</th>\n",
       "      <th>last_trained</th>\n",
       "    </tr>\n",
       "  </thead>\n",
       "  <tbody>\n",
       "    <tr>\n",
       "      <th>0</th>\n",
       "      <td>BTC</td>\n",
       "      <td>2022-11-25</td>\n",
       "      <td>2022-11-25</td>\n",
       "    </tr>\n",
       "    <tr>\n",
       "      <th>1</th>\n",
       "      <td>ETH</td>\n",
       "      <td>2022-11-25</td>\n",
       "      <td>2022-11-25</td>\n",
       "    </tr>\n",
       "    <tr>\n",
       "      <th>2</th>\n",
       "      <td>BNB</td>\n",
       "      <td>2022-11-25</td>\n",
       "      <td>2022-11-25</td>\n",
       "    </tr>\n",
       "    <tr>\n",
       "      <th>3</th>\n",
       "      <td>XRP</td>\n",
       "      <td>2022-11-25</td>\n",
       "      <td>2022-11-25</td>\n",
       "    </tr>\n",
       "    <tr>\n",
       "      <th>4</th>\n",
       "      <td>DOGE</td>\n",
       "      <td>2022-11-25</td>\n",
       "      <td>2022-11-25</td>\n",
       "    </tr>\n",
       "    <tr>\n",
       "      <th>5</th>\n",
       "      <td>LTC</td>\n",
       "      <td>2022-11-25</td>\n",
       "      <td>2022-11-25</td>\n",
       "    </tr>\n",
       "    <tr>\n",
       "      <th>6</th>\n",
       "      <td>WETH</td>\n",
       "      <td>2022-11-25</td>\n",
       "      <td>2022-11-25</td>\n",
       "    </tr>\n",
       "    <tr>\n",
       "      <th>7</th>\n",
       "      <td>SOL</td>\n",
       "      <td>2022-11-25</td>\n",
       "      <td>2022-11-25</td>\n",
       "    </tr>\n",
       "    <tr>\n",
       "      <th>8</th>\n",
       "      <td>SHIB</td>\n",
       "      <td>2022-11-25</td>\n",
       "      <td>2022-11-25</td>\n",
       "    </tr>\n",
       "    <tr>\n",
       "      <th>9</th>\n",
       "      <td>MATIC</td>\n",
       "      <td>2022-11-25</td>\n",
       "      <td>2022-11-25</td>\n",
       "    </tr>\n",
       "  </tbody>\n",
       "</table>\n",
       "</div>"
      ],
      "text/plain": [
       "    coin last_predicted last_trained\n",
       "0    BTC     2022-11-25   2022-11-25\n",
       "1    ETH     2022-11-25   2022-11-25\n",
       "2    BNB     2022-11-25   2022-11-25\n",
       "3    XRP     2022-11-25   2022-11-25\n",
       "4   DOGE     2022-11-25   2022-11-25\n",
       "5    LTC     2022-11-25   2022-11-25\n",
       "6   WETH     2022-11-25   2022-11-25\n",
       "7    SOL     2022-11-25   2022-11-25\n",
       "8   SHIB     2022-11-25   2022-11-25\n",
       "9  MATIC     2022-11-25   2022-11-25"
      ]
     },
     "execution_count": 11,
     "metadata": {},
     "output_type": "execute_result"
    }
   ],
   "source": [
    "coins_df"
   ]
  },
  {
   "cell_type": "code",
   "execution_count": 12,
   "id": "2796fc71-6e41-4e4a-8c20-46a62fb113f3",
   "metadata": {},
   "outputs": [
    {
     "data": {
      "text/plain": [
       "10"
      ]
     },
     "execution_count": 12,
     "metadata": {},
     "output_type": "execute_result"
    }
   ],
   "source": [
    "coins_df.to_sql('coins', con, if_exists='replace')"
   ]
  },
  {
   "cell_type": "code",
   "execution_count": 13,
   "id": "fcc2b39f-2f70-4f97-9caa-8a22d229232f",
   "metadata": {},
   "outputs": [],
   "source": [
    "dh = YahooFinanceAPI(Interval.DAILY)\n",
    "then = datetime.datetime(2017, 1, 1)"
   ]
  },
  {
   "cell_type": "code",
   "execution_count": 14,
   "id": "d9f79497-bf12-4b45-9d7d-3dd45aa2b94a",
   "metadata": {},
   "outputs": [],
   "source": [
    "df = dh.get_ticker_data(\"BTC-USD\", then, now)"
   ]
  },
  {
   "cell_type": "code",
   "execution_count": 22,
   "id": "3a76d88b-57cb-4de9-9056-ce59ae6346d6",
   "metadata": {},
   "outputs": [
    {
     "data": {
      "text/plain": [
       "0"
      ]
     },
     "execution_count": 22,
     "metadata": {},
     "output_type": "execute_result"
    }
   ],
   "source": [
    "df.isna().sum().sum()"
   ]
  },
  {
   "cell_type": "code",
   "execution_count": 16,
   "id": "4c51b9b6-974b-4fda-a936-af9fd98df4c9",
   "metadata": {},
   "outputs": [],
   "source": [
    "df = utils.preprocess_data(df)"
   ]
  },
  {
   "cell_type": "code",
   "execution_count": 18,
   "id": "d7a3bc1b-9539-4655-8834-5c78c0d86dbc",
   "metadata": {},
   "outputs": [
    {
     "data": {
      "text/html": [
       "<div>\n",
       "<style scoped>\n",
       "    .dataframe tbody tr th:only-of-type {\n",
       "        vertical-align: middle;\n",
       "    }\n",
       "\n",
       "    .dataframe tbody tr th {\n",
       "        vertical-align: top;\n",
       "    }\n",
       "\n",
       "    .dataframe thead th {\n",
       "        text-align: right;\n",
       "    }\n",
       "</style>\n",
       "<table border=\"1\" class=\"dataframe\">\n",
       "  <thead>\n",
       "    <tr style=\"text-align: right;\">\n",
       "      <th></th>\n",
       "      <th>Open</th>\n",
       "      <th>High</th>\n",
       "      <th>Low</th>\n",
       "      <th>Close</th>\n",
       "      <th>Volume</th>\n",
       "    </tr>\n",
       "  </thead>\n",
       "  <tbody>\n",
       "    <tr>\n",
       "      <th>2017-01-01</th>\n",
       "      <td>963.658020</td>\n",
       "      <td>1003.080017</td>\n",
       "      <td>958.698975</td>\n",
       "      <td>998.325012</td>\n",
       "      <td>147775008</td>\n",
       "    </tr>\n",
       "    <tr>\n",
       "      <th>2017-01-02</th>\n",
       "      <td>998.617004</td>\n",
       "      <td>1031.390015</td>\n",
       "      <td>996.702026</td>\n",
       "      <td>1021.750000</td>\n",
       "      <td>222184992</td>\n",
       "    </tr>\n",
       "    <tr>\n",
       "      <th>2017-01-03</th>\n",
       "      <td>1021.599976</td>\n",
       "      <td>1044.079956</td>\n",
       "      <td>1021.599976</td>\n",
       "      <td>1043.839966</td>\n",
       "      <td>185168000</td>\n",
       "    </tr>\n",
       "    <tr>\n",
       "      <th>2017-01-04</th>\n",
       "      <td>1044.400024</td>\n",
       "      <td>1159.420044</td>\n",
       "      <td>1044.400024</td>\n",
       "      <td>1154.729980</td>\n",
       "      <td>344945984</td>\n",
       "    </tr>\n",
       "    <tr>\n",
       "      <th>2017-01-05</th>\n",
       "      <td>1156.729980</td>\n",
       "      <td>1191.099976</td>\n",
       "      <td>910.416992</td>\n",
       "      <td>1013.380005</td>\n",
       "      <td>510199008</td>\n",
       "    </tr>\n",
       "    <tr>\n",
       "      <th>...</th>\n",
       "      <td>...</td>\n",
       "      <td>...</td>\n",
       "      <td>...</td>\n",
       "      <td>...</td>\n",
       "      <td>...</td>\n",
       "    </tr>\n",
       "    <tr>\n",
       "      <th>2022-11-21</th>\n",
       "      <td>16291.223633</td>\n",
       "      <td>16291.223633</td>\n",
       "      <td>15599.046875</td>\n",
       "      <td>15787.284180</td>\n",
       "      <td>37429485518</td>\n",
       "    </tr>\n",
       "    <tr>\n",
       "      <th>2022-11-22</th>\n",
       "      <td>15782.300781</td>\n",
       "      <td>16253.047852</td>\n",
       "      <td>15656.606445</td>\n",
       "      <td>16189.769531</td>\n",
       "      <td>30726828760</td>\n",
       "    </tr>\n",
       "    <tr>\n",
       "      <th>2022-11-23</th>\n",
       "      <td>16195.588867</td>\n",
       "      <td>16638.193359</td>\n",
       "      <td>16170.502930</td>\n",
       "      <td>16610.707031</td>\n",
       "      <td>32958875628</td>\n",
       "    </tr>\n",
       "    <tr>\n",
       "      <th>2022-11-24</th>\n",
       "      <td>16611.636719</td>\n",
       "      <td>16771.474609</td>\n",
       "      <td>16501.767578</td>\n",
       "      <td>16604.464844</td>\n",
       "      <td>26129037414</td>\n",
       "    </tr>\n",
       "    <tr>\n",
       "      <th>2022-11-25</th>\n",
       "      <td>16602.269531</td>\n",
       "      <td>16603.316406</td>\n",
       "      <td>16388.404297</td>\n",
       "      <td>16521.841797</td>\n",
       "      <td>18678255976</td>\n",
       "    </tr>\n",
       "  </tbody>\n",
       "</table>\n",
       "<p>2155 rows × 5 columns</p>\n",
       "</div>"
      ],
      "text/plain": [
       "                    Open          High           Low         Close  \\\n",
       "2017-01-01    963.658020   1003.080017    958.698975    998.325012   \n",
       "2017-01-02    998.617004   1031.390015    996.702026   1021.750000   \n",
       "2017-01-03   1021.599976   1044.079956   1021.599976   1043.839966   \n",
       "2017-01-04   1044.400024   1159.420044   1044.400024   1154.729980   \n",
       "2017-01-05   1156.729980   1191.099976    910.416992   1013.380005   \n",
       "...                  ...           ...           ...           ...   \n",
       "2022-11-21  16291.223633  16291.223633  15599.046875  15787.284180   \n",
       "2022-11-22  15782.300781  16253.047852  15656.606445  16189.769531   \n",
       "2022-11-23  16195.588867  16638.193359  16170.502930  16610.707031   \n",
       "2022-11-24  16611.636719  16771.474609  16501.767578  16604.464844   \n",
       "2022-11-25  16602.269531  16603.316406  16388.404297  16521.841797   \n",
       "\n",
       "                 Volume  \n",
       "2017-01-01    147775008  \n",
       "2017-01-02    222184992  \n",
       "2017-01-03    185168000  \n",
       "2017-01-04    344945984  \n",
       "2017-01-05    510199008  \n",
       "...                 ...  \n",
       "2022-11-21  37429485518  \n",
       "2022-11-22  30726828760  \n",
       "2022-11-23  32958875628  \n",
       "2022-11-24  26129037414  \n",
       "2022-11-25  18678255976  \n",
       "\n",
       "[2155 rows x 5 columns]"
      ]
     },
     "execution_count": 18,
     "metadata": {},
     "output_type": "execute_result"
    }
   ],
   "source": [
    "df"
   ]
  },
  {
   "cell_type": "code",
   "execution_count": 23,
   "id": "531d57fc-7bb1-4031-9205-609002543f8f",
   "metadata": {},
   "outputs": [
    {
     "name": "stdout",
     "output_type": "stream",
     "text": [
      "WETH has null\n"
     ]
    }
   ],
   "source": [
    "for coin in coins:\n",
    "    s = coin + '-USD'\n",
    "    df = dh.get_ticker_data(s, then, now)\n",
    "    if df.isna().sum().sum() == 0:\n",
    "        df = utils.preprocess_data(df)\n",
    "        df.to_sql(coin, con, if_exists='replace')\n",
    "    else:\n",
    "        print(coin + ' has null')\n",
    "        "
   ]
  },
  {
   "cell_type": "code",
   "execution_count": 24,
   "id": "70f8ebe4-1d1b-4847-beae-6f95e138a745",
   "metadata": {},
   "outputs": [],
   "source": [
    "weth = dh.get_ticker_data(\"WETH-USD\", then, now)"
   ]
  },
  {
   "cell_type": "code",
   "execution_count": 26,
   "id": "e84b082a-6a82-4d66-ba2b-b791ec10aa28",
   "metadata": {},
   "outputs": [
    {
     "data": {
      "text/plain": [
       "Date         0\n",
       "Open         1\n",
       "High         1\n",
       "Low          1\n",
       "Close        1\n",
       "Adj Close    1\n",
       "Volume       1\n",
       "dtype: int64"
      ]
     },
     "execution_count": 26,
     "metadata": {},
     "output_type": "execute_result"
    }
   ],
   "source": [
    "weth.isna().sum()"
   ]
  },
  {
   "cell_type": "code",
   "execution_count": 33,
   "id": "0464020d-f8d6-45c8-8aef-ff57e2d15a12",
   "metadata": {},
   "outputs": [
    {
     "data": {
      "text/html": [
       "<div>\n",
       "<style scoped>\n",
       "    .dataframe tbody tr th:only-of-type {\n",
       "        vertical-align: middle;\n",
       "    }\n",
       "\n",
       "    .dataframe tbody tr th {\n",
       "        vertical-align: top;\n",
       "    }\n",
       "\n",
       "    .dataframe thead th {\n",
       "        text-align: right;\n",
       "    }\n",
       "</style>\n",
       "<table border=\"1\" class=\"dataframe\">\n",
       "  <thead>\n",
       "    <tr style=\"text-align: right;\">\n",
       "      <th></th>\n",
       "      <th>Date</th>\n",
       "      <th>Open</th>\n",
       "      <th>High</th>\n",
       "      <th>Low</th>\n",
       "      <th>Close</th>\n",
       "      <th>Adj Close</th>\n",
       "      <th>Volume</th>\n",
       "    </tr>\n",
       "  </thead>\n",
       "  <tbody>\n",
       "    <tr>\n",
       "      <th>220</th>\n",
       "      <td>False</td>\n",
       "      <td>True</td>\n",
       "      <td>True</td>\n",
       "      <td>True</td>\n",
       "      <td>True</td>\n",
       "      <td>True</td>\n",
       "      <td>True</td>\n",
       "    </tr>\n",
       "  </tbody>\n",
       "</table>\n",
       "</div>"
      ],
      "text/plain": [
       "      Date  Open  High   Low  Close  Adj Close  Volume\n",
       "220  False  True  True  True   True       True    True"
      ]
     },
     "execution_count": 33,
     "metadata": {},
     "output_type": "execute_result"
    }
   ],
   "source": [
    "weth.isna()[weth.isna()['Open']==True]"
   ]
  },
  {
   "cell_type": "code",
   "execution_count": 37,
   "id": "63b65e0f-75d8-4442-88e2-fa2daf1fe3b6",
   "metadata": {},
   "outputs": [
    {
     "data": {
      "text/plain": [
       "Date         2018-08-22 00:00:00\n",
       "Open                         NaN\n",
       "High                         NaN\n",
       "Low                          NaN\n",
       "Close                        NaN\n",
       "Adj Close                    NaN\n",
       "Volume                       NaN\n",
       "Name: 220, dtype: object"
      ]
     },
     "execution_count": 37,
     "metadata": {},
     "output_type": "execute_result"
    }
   ],
   "source": [
    "weth.iloc[220]"
   ]
  },
  {
   "cell_type": "code",
   "execution_count": 41,
   "id": "a87db05d-7b53-4192-8f2e-56b42949f361",
   "metadata": {},
   "outputs": [
    {
     "data": {
      "text/plain": [
       "<sqlite3.Cursor at 0x2a807158040>"
      ]
     },
     "execution_count": 41,
     "metadata": {},
     "output_type": "execute_result"
    }
   ],
   "source": [
    "cn.execute('PRAGMA table_list')"
   ]
  },
  {
   "cell_type": "code",
   "execution_count": null,
   "id": "6e3b0afb-5089-439d-8213-06dfa5479254",
   "metadata": {},
   "outputs": [
    {
     "name": "stdout",
     "output_type": "stream",
     "text": [
      "[('main', 'SHIB', 'table', 6, 0, 0), ('main', 'sqlite_schema', 'table', 5, 0, 0), ('main', 'coins', 'table', 4, 0, 0), ('main', 'BTC', 'table', 6, 0, 0), ('main', 'ETH', 'table', 6, 0, 0), ('main', 'MATIC', 'table', 6, 0, 0), ('main', 'XRP', 'table', 6, 0, 0), ('main', 'DOGE', 'table', 6, 0, 0), ('main', 'LTC', 'table', 6, 0, 0), ('main', 'BNB', 'table', 6, 0, 0), ('main', 'SOL', 'table', 6, 0, 0), ('temp', 'sqlite_temp_schema', 'table', 5, 0, 0)]\n"
     ]
    }
   ],
   "source": [
    "print(cn.fetchall())"
   ]
  }
 ],
 "metadata": {
  "kernelspec": {
   "display_name": "Python 3 (ipykernel)",
   "language": "python",
   "name": "python3"
  },
  "language_info": {
   "codemirror_mode": {
    "name": "ipython",
    "version": 3
   },
   "file_extension": ".py",
   "mimetype": "text/x-python",
   "name": "python",
   "nbconvert_exporter": "python",
   "pygments_lexer": "ipython3",
   "version": "3.10.6"
  }
 },
 "nbformat": 4,
 "nbformat_minor": 5
}
