{
 "cells": [
  {
   "cell_type": "code",
   "execution_count": 1,
   "id": "d2214241-7db4-4fbf-ba8e-7413f97b02ba",
   "metadata": {},
   "outputs": [],
   "source": [
    "from data import SequenceDataset\n",
    "from model import LSTM\n",
    "from main import train_model_with_test, train_model, predict, test_results\n",
    "from torch.utils.data import DataLoader\n",
    "import utils\n",
    "import pandas as pd\n",
    "import torch\n",
    "import numpy as np\n",
    "import random"
   ]
  },
  {
   "cell_type": "code",
   "execution_count": 2,
   "id": "0984fe45-a964-4051-b975-4417b77de0c4",
   "metadata": {},
   "outputs": [],
   "source": [
    "fix_seed = 2021\n",
    "random.seed(fix_seed)\n",
    "torch.manual_seed(fix_seed)\n",
    "np.random.seed(fix_seed)"
   ]
  },
  {
   "cell_type": "code",
   "execution_count": 3,
   "id": "022e413e-1eef-42c9-b6f5-f9b27e2edf9a",
   "metadata": {},
   "outputs": [],
   "source": [
    "df = pd.read_csv(r'F:\\ML_Bootcamp\\LTSF-Linear\\dataset\\test.csv')"
   ]
  },
  {
   "cell_type": "code",
   "execution_count": 4,
   "id": "8e59fd84-3d7d-4d00-bdcf-35c88a99df73",
   "metadata": {},
   "outputs": [],
   "source": [
    "target = 'Close'\n",
    "features = list(df.columns)\n",
    "features.remove('date')"
   ]
  },
  {
   "cell_type": "code",
   "execution_count": 5,
   "id": "feacfa00-de3d-4b4e-ba95-1ec3bf526e8b",
   "metadata": {},
   "outputs": [],
   "source": [
    "train_size = int(len(df)*.8)\n",
    "train_df = df[:train_size]\n",
    "test_df = df[train_size:]\n",
    "test_df.reset_index(drop=True,inplace=True)"
   ]
  },
  {
   "cell_type": "code",
   "execution_count": 6,
   "id": "667bedd9-8c95-4fbd-8ff4-4ee891d6eb76",
   "metadata": {},
   "outputs": [],
   "source": [
    "scaled_train_df, scalers = utils.scale_df(train_df)"
   ]
  },
  {
   "cell_type": "code",
   "execution_count": 7,
   "id": "e4e15807-6faa-4396-a2b6-892e9cceb7de",
   "metadata": {},
   "outputs": [],
   "source": [
    "scaled_test_df = utils.apply_scalers(test_df, scalers)"
   ]
  },
  {
   "cell_type": "code",
   "execution_count": 8,
   "id": "72552d8c-538a-442f-90a8-75fdd5b394b7",
   "metadata": {},
   "outputs": [],
   "source": [
    "train_dataset = SequenceDataset(scaled_train_df, target, features)\n",
    "test_dataset = SequenceDataset(scaled_test_df, target, features)"
   ]
  },
  {
   "cell_type": "code",
   "execution_count": 9,
   "id": "ebd06b7b-79b5-4792-a5cc-2eee5cbfe46d",
   "metadata": {},
   "outputs": [],
   "source": [
    "train_loader = DataLoader(train_dataset, batch_size=8, shuffle=True)"
   ]
  },
  {
   "cell_type": "code",
   "execution_count": 10,
   "id": "c261d716-3cc5-4114-9d2a-1002d4c5f1da",
   "metadata": {},
   "outputs": [],
   "source": [
    "test_loader = DataLoader(test_dataset, batch_size=8, shuffle=False)"
   ]
  },
  {
   "cell_type": "code",
   "execution_count": 11,
   "id": "3dcfc5e4-aee8-4f80-a0b5-47c9d999de3c",
   "metadata": {},
   "outputs": [
    {
     "name": "stderr",
     "output_type": "stream",
     "text": [
      "F:\\Applications\\Anaconda\\envs\\transformer\\lib\\site-packages\\torch\\nn\\modules\\rnn.py:62: UserWarning: dropout option adds dropout after all but last recurrent layer, so non-zero dropout expects num_layers greater than 1, but got dropout=0.2 and num_layers=1\n",
      "  warnings.warn(\"dropout option adds dropout after all but last \"\n"
     ]
    }
   ],
   "source": [
    "\n",
    "n_epochs = 5 # 5 epochs\n",
    "learning_rate = 0.001 # 0.001 lr\n",
    "\n",
    "input_size = 5 # number of features\n",
    "hidden_size = 2 # number of features in hidden state\n",
    "num_layers = 1 # number of stacked lstm layers\n",
    "\n",
    "num_classes = 7 # number of output classes \n",
    "\n",
    "lstm = LSTM(num_classes, \n",
    "              input_size, \n",
    "              hidden_size, \n",
    "              num_layers)"
   ]
  },
  {
   "cell_type": "code",
   "execution_count": 12,
   "id": "11807a51-3c3a-45d1-a99c-6cd21a0379da",
   "metadata": {},
   "outputs": [],
   "source": [
    "loss_fn = torch.nn.MSELoss()    # mean-squared error for regression\n",
    "optimiser = torch.optim.Adam(lstm.parameters(), lr=learning_rate) "
   ]
  },
  {
   "cell_type": "code",
   "execution_count": 13,
   "id": "9d09d92d-a908-4357-a2b0-79b1f29e6936",
   "metadata": {},
   "outputs": [
    {
     "ename": "RuntimeError",
     "evalue": "mat1 and mat2 shapes cannot be multiplied (8x2 and 128x7)",
     "output_type": "error",
     "traceback": [
      "\u001b[1;31m---------------------------------------------------------------------------\u001b[0m",
      "\u001b[1;31mRuntimeError\u001b[0m                              Traceback (most recent call last)",
      "Cell \u001b[1;32mIn [13], line 1\u001b[0m\n\u001b[1;32m----> 1\u001b[0m \u001b[43mtrain_model_with_test\u001b[49m\u001b[43m(\u001b[49m\u001b[43mn_epochs\u001b[49m\u001b[38;5;241;43m=\u001b[39;49m\u001b[43mn_epochs\u001b[49m\u001b[43m,\u001b[49m\n\u001b[0;32m      2\u001b[0m \u001b[43m              \u001b[49m\u001b[43mlstm\u001b[49m\u001b[38;5;241;43m=\u001b[39;49m\u001b[43mlstm\u001b[49m\u001b[43m,\u001b[49m\n\u001b[0;32m      3\u001b[0m \u001b[43m              \u001b[49m\u001b[43moptimiser\u001b[49m\u001b[38;5;241;43m=\u001b[39;49m\u001b[43moptimiser\u001b[49m\u001b[43m,\u001b[49m\n\u001b[0;32m      4\u001b[0m \u001b[43m              \u001b[49m\u001b[43mloss_fn\u001b[49m\u001b[38;5;241;43m=\u001b[39;49m\u001b[43mloss_fn\u001b[49m\u001b[43m,\u001b[49m\n\u001b[0;32m      5\u001b[0m \u001b[43m              \u001b[49m\u001b[43mtrain_loader\u001b[49m\u001b[38;5;241;43m=\u001b[39;49m\u001b[43mtrain_loader\u001b[49m\u001b[43m,\u001b[49m\n\u001b[0;32m      6\u001b[0m \u001b[43m                \u001b[49m\u001b[43mtest_loader\u001b[49m\u001b[38;5;241;43m=\u001b[39;49m\u001b[43mtest_loader\u001b[49m\u001b[43m)\u001b[49m\n",
      "File \u001b[1;32mF:\\ML_Bootcamp\\capstone_project\\main.py:17\u001b[0m, in \u001b[0;36mtrain_model_with_test\u001b[1;34m(n_epochs, lstm, optimiser, loss_fn, train_loader, test_loader)\u001b[0m\n\u001b[0;32m     15\u001b[0m \u001b[38;5;28;01mfor\u001b[39;00m X_train, y_train \u001b[38;5;129;01min\u001b[39;00m train_loader:\n\u001b[0;32m     16\u001b[0m     lstm\u001b[38;5;241m.\u001b[39mtrain()\n\u001b[1;32m---> 17\u001b[0m     outputs \u001b[38;5;241m=\u001b[39m \u001b[43mlstm\u001b[49m\u001b[38;5;241;43m.\u001b[39;49m\u001b[43mforward\u001b[49m\u001b[43m(\u001b[49m\u001b[43mX_train\u001b[49m\u001b[43m)\u001b[49m \u001b[38;5;66;03m# forward pass\u001b[39;00m\n\u001b[0;32m     18\u001b[0m     optimiser\u001b[38;5;241m.\u001b[39mzero_grad() \u001b[38;5;66;03m# calculate the gradient, manually setting to 0\u001b[39;00m\n\u001b[0;32m     19\u001b[0m     \u001b[38;5;66;03m#  obtain the loss function\u001b[39;00m\n",
      "File \u001b[1;32mF:\\ML_Bootcamp\\capstone_project\\model.py:30\u001b[0m, in \u001b[0;36mLSTM.forward\u001b[1;34m(self, x)\u001b[0m\n\u001b[0;32m     27\u001b[0m     c0 \u001b[38;5;241m=\u001b[39m torch\u001b[38;5;241m.\u001b[39mzeros(\u001b[38;5;28mself\u001b[39m\u001b[38;5;241m.\u001b[39mnum_layers, batch_size, \u001b[38;5;28mself\u001b[39m\u001b[38;5;241m.\u001b[39mhidden_size)\u001b[38;5;241m.\u001b[39mrequires_grad_()\n\u001b[0;32m     29\u001b[0m     _, (hn, _) \u001b[38;5;241m=\u001b[39m \u001b[38;5;28mself\u001b[39m\u001b[38;5;241m.\u001b[39mlstm(x, (h0, c0))\n\u001b[1;32m---> 30\u001b[0m     out \u001b[38;5;241m=\u001b[39m \u001b[38;5;28;43mself\u001b[39;49m\u001b[38;5;241;43m.\u001b[39;49m\u001b[43mfc_2\u001b[49m\u001b[43m(\u001b[49m\u001b[43mhn\u001b[49m\u001b[43m[\u001b[49m\u001b[38;5;241;43m0\u001b[39;49m\u001b[43m]\u001b[49m\u001b[43m)\u001b[49m\u001b[38;5;241m.\u001b[39mflatten()  \u001b[38;5;66;03m# First dim of Hn is num_layers, which is set to 1 above.\u001b[39;00m\n\u001b[0;32m     32\u001b[0m     \u001b[38;5;28;01mreturn\u001b[39;00m out\n\u001b[0;32m     33\u001b[0m     \u001b[38;5;124;03m'''\u001b[39;00m\n\u001b[0;32m     34\u001b[0m \u001b[38;5;124;03mdef forward(self,x):\u001b[39;00m\n\u001b[0;32m     35\u001b[0m \u001b[38;5;124;03m    # hidden state\u001b[39;00m\n\u001b[1;32m   (...)\u001b[0m\n\u001b[0;32m     46\u001b[0m \u001b[38;5;124;03m    return out\u001b[39;00m\n\u001b[0;32m     47\u001b[0m \u001b[38;5;124;03m    '''\u001b[39;00m\n",
      "File \u001b[1;32mF:\\Applications\\Anaconda\\envs\\transformer\\lib\\site-packages\\torch\\nn\\modules\\module.py:1130\u001b[0m, in \u001b[0;36mModule._call_impl\u001b[1;34m(self, *input, **kwargs)\u001b[0m\n\u001b[0;32m   1126\u001b[0m \u001b[38;5;66;03m# If we don't have any hooks, we want to skip the rest of the logic in\u001b[39;00m\n\u001b[0;32m   1127\u001b[0m \u001b[38;5;66;03m# this function, and just call forward.\u001b[39;00m\n\u001b[0;32m   1128\u001b[0m \u001b[38;5;28;01mif\u001b[39;00m \u001b[38;5;129;01mnot\u001b[39;00m (\u001b[38;5;28mself\u001b[39m\u001b[38;5;241m.\u001b[39m_backward_hooks \u001b[38;5;129;01mor\u001b[39;00m \u001b[38;5;28mself\u001b[39m\u001b[38;5;241m.\u001b[39m_forward_hooks \u001b[38;5;129;01mor\u001b[39;00m \u001b[38;5;28mself\u001b[39m\u001b[38;5;241m.\u001b[39m_forward_pre_hooks \u001b[38;5;129;01mor\u001b[39;00m _global_backward_hooks\n\u001b[0;32m   1129\u001b[0m         \u001b[38;5;129;01mor\u001b[39;00m _global_forward_hooks \u001b[38;5;129;01mor\u001b[39;00m _global_forward_pre_hooks):\n\u001b[1;32m-> 1130\u001b[0m     \u001b[38;5;28;01mreturn\u001b[39;00m forward_call(\u001b[38;5;241m*\u001b[39m\u001b[38;5;28minput\u001b[39m, \u001b[38;5;241m*\u001b[39m\u001b[38;5;241m*\u001b[39mkwargs)\n\u001b[0;32m   1131\u001b[0m \u001b[38;5;66;03m# Do not call functions when jit is used\u001b[39;00m\n\u001b[0;32m   1132\u001b[0m full_backward_hooks, non_full_backward_hooks \u001b[38;5;241m=\u001b[39m [], []\n",
      "File \u001b[1;32mF:\\Applications\\Anaconda\\envs\\transformer\\lib\\site-packages\\torch\\nn\\modules\\linear.py:114\u001b[0m, in \u001b[0;36mLinear.forward\u001b[1;34m(self, input)\u001b[0m\n\u001b[0;32m    113\u001b[0m \u001b[38;5;28;01mdef\u001b[39;00m \u001b[38;5;21mforward\u001b[39m(\u001b[38;5;28mself\u001b[39m, \u001b[38;5;28minput\u001b[39m: Tensor) \u001b[38;5;241m-\u001b[39m\u001b[38;5;241m>\u001b[39m Tensor:\n\u001b[1;32m--> 114\u001b[0m     \u001b[38;5;28;01mreturn\u001b[39;00m \u001b[43mF\u001b[49m\u001b[38;5;241;43m.\u001b[39;49m\u001b[43mlinear\u001b[49m\u001b[43m(\u001b[49m\u001b[38;5;28;43minput\u001b[39;49m\u001b[43m,\u001b[49m\u001b[43m \u001b[49m\u001b[38;5;28;43mself\u001b[39;49m\u001b[38;5;241;43m.\u001b[39;49m\u001b[43mweight\u001b[49m\u001b[43m,\u001b[49m\u001b[43m \u001b[49m\u001b[38;5;28;43mself\u001b[39;49m\u001b[38;5;241;43m.\u001b[39;49m\u001b[43mbias\u001b[49m\u001b[43m)\u001b[49m\n",
      "\u001b[1;31mRuntimeError\u001b[0m: mat1 and mat2 shapes cannot be multiplied (8x2 and 128x7)"
     ]
    }
   ],
   "source": [
    "train_model_with_test(n_epochs=n_epochs,\n",
    "              lstm=lstm,\n",
    "              optimiser=optimiser,\n",
    "              loss_fn=loss_fn,\n",
    "              train_loader=train_loader,\n",
    "                test_loader=test_loader)"
   ]
  },
  {
   "cell_type": "code",
   "execution_count": null,
   "id": "be23b3d9-62d7-414d-98b0-6d793fb209ff",
   "metadata": {},
   "outputs": [],
   "source": [
    "preds = predict(lstm, test_loader)"
   ]
  },
  {
   "cell_type": "code",
   "execution_count": null,
   "id": "e6f57df9-9731-4fe4-8143-0331f3ce921a",
   "metadata": {},
   "outputs": [],
   "source": [
    "real = scaled_test_df['Close'].values"
   ]
  },
  {
   "cell_type": "code",
   "execution_count": null,
   "id": "1587d66e-cf62-4f3b-917d-41603b81e216",
   "metadata": {},
   "outputs": [],
   "source": [
    "preds"
   ]
  },
  {
   "cell_type": "code",
   "execution_count": null,
   "id": "707bb34b-a2f9-4ea0-9540-0e48c85d9390",
   "metadata": {},
   "outputs": [],
   "source": [
    "train_preds = predict(lstm, train_loader)"
   ]
  },
  {
   "cell_type": "code",
   "execution_count": null,
   "id": "e95f293e-9114-46cb-b942-2319c81a9204",
   "metadata": {},
   "outputs": [],
   "source": [
    "train_preds"
   ]
  },
  {
   "cell_type": "code",
   "execution_count": null,
   "id": "aba1c2f0-31e9-4f3d-a02c-d83fec8a6f9b",
   "metadata": {},
   "outputs": [],
   "source": []
  }
 ],
 "metadata": {
  "kernelspec": {
   "display_name": "Python 3 (ipykernel)",
   "language": "python",
   "name": "python3"
  },
  "language_info": {
   "codemirror_mode": {
    "name": "ipython",
    "version": 3
   },
   "file_extension": ".py",
   "mimetype": "text/x-python",
   "name": "python",
   "nbconvert_exporter": "python",
   "pygments_lexer": "ipython3",
   "version": "3.10.6"
  }
 },
 "nbformat": 4,
 "nbformat_minor": 5
}
