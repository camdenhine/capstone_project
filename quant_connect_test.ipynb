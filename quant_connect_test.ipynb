{
 "cells": [
  {
   "cell_type": "code",
   "execution_count": 3,
   "id": "268ac5c4-7209-430c-97d0-22b64789eacb",
   "metadata": {},
   "outputs": [
    {
     "ename": "ModuleNotFoundError",
     "evalue": "No module named 'clr'",
     "output_type": "error",
     "traceback": [
      "\u001b[1;31m---------------------------------------------------------------------------\u001b[0m",
      "\u001b[1;31mModuleNotFoundError\u001b[0m                       Traceback (most recent call last)",
      "Cell \u001b[1;32mIn [3], line 1\u001b[0m\n\u001b[1;32m----> 1\u001b[0m \u001b[38;5;28;01mfrom\u001b[39;00m \u001b[38;5;21;01mLean\u001b[39;00m\u001b[38;5;21;01m.\u001b[39;00m\u001b[38;5;21;01mCommon\u001b[39;00m\u001b[38;5;21;01m.\u001b[39;00m\u001b[38;5;21;01mAlgorithmImports\u001b[39;00m \u001b[38;5;28;01mimport\u001b[39;00m \u001b[38;5;241m*\u001b[39m\n\u001b[0;32m      2\u001b[0m \u001b[38;5;28;01mfrom\u001b[39;00m \u001b[38;5;21;01mQuantConnect\u001b[39;00m\u001b[38;5;21;01m.\u001b[39;00m\u001b[38;5;21;01mDataSource\u001b[39;00m \u001b[38;5;28;01mimport\u001b[39;00m \u001b[38;5;241m*\u001b[39m\n\u001b[0;32m      3\u001b[0m \u001b[38;5;28;01mfrom\u001b[39;00m \u001b[38;5;21;01mQuantConnect\u001b[39;00m\u001b[38;5;21;01m.\u001b[39;00m\u001b[38;5;21;01mData\u001b[39;00m\u001b[38;5;21;01m.\u001b[39;00m\u001b[38;5;21;01mUniverseSelection\u001b[39;00m \u001b[38;5;28;01mimport\u001b[39;00m \u001b[38;5;241m*\u001b[39m\n",
      "File \u001b[1;32mF:\\ML_Bootcamp\\capstone_project\\Lean\\Common\\AlgorithmImports.py:23\u001b[0m\n\u001b[0;32m     17\u001b[0m \u001b[38;5;66;03m# The runtimeconfig.json is stored alongside start.py, but start.py may be a\u001b[39;00m\n\u001b[0;32m     18\u001b[0m \u001b[38;5;66;03m# symlink and the directory start.py is stored in is not necessarily the\u001b[39;00m\n\u001b[0;32m     19\u001b[0m \u001b[38;5;66;03m# current working directory. We therefore construct the absolute path to the\u001b[39;00m\n\u001b[0;32m     20\u001b[0m \u001b[38;5;66;03m# start.py file, and find the runtimeconfig.json relative to that.\u001b[39;00m\n\u001b[0;32m     21\u001b[0m path \u001b[38;5;241m=\u001b[39m os\u001b[38;5;241m.\u001b[39mpath\u001b[38;5;241m.\u001b[39mdirname(os\u001b[38;5;241m.\u001b[39mpath\u001b[38;5;241m.\u001b[39mrealpath(\u001b[38;5;18m__file__\u001b[39m))\n\u001b[1;32m---> 23\u001b[0m \u001b[38;5;28;01mfrom\u001b[39;00m \u001b[38;5;21;01mclr\u001b[39;00m \u001b[38;5;28;01mimport\u001b[39;00m AddReference\n\u001b[0;32m     24\u001b[0m AddReference(\u001b[38;5;124m\"\u001b[39m\u001b[38;5;124mSystem\u001b[39m\u001b[38;5;124m\"\u001b[39m)\n\u001b[0;32m     26\u001b[0m \u001b[38;5;66;03m#Load assemblies\u001b[39;00m\n",
      "\u001b[1;31mModuleNotFoundError\u001b[0m: No module named 'clr'"
     ]
    }
   ],
   "source": [
    "from Lean.Common.AlgorithmImports import *\n",
    "from QuantConnect.DataSource import *\n",
    "from QuantConnect.Data.UniverseSelection import *\n",
    "\n",
    "class CoinAPIDataAlgorithm(QCAlgorithm):\n",
    "\n",
    "    def Initialize(self) -> None:\n",
    "        self.SetStartDate(2020, 6, 1)\n",
    "        self.SetEndDate(2021, 6, 1)\n",
    "        \n",
    "        # Requesting data\n",
    "        crypto = self.AddCrypto(\"BTCBUSD\", Resolution.Minute, Market.Binance)\n",
    "        self.btcbusd = crypto.Symbol\n",
    "        self.minimum_order_size = crypto.SymbolProperties.MinimumOrderSize\n",
    "        \n",
    "        # Historical data\n",
    "        history = self.History(self.btcbusd, 30, Resolution.Daily)\n",
    "        self.Debug(f\"We got {len(history)} items from our history request\")\n",
    "\n",
    "        # Add Crypto Coarse Fundamental Universe Selection\n",
    "        self.AddUniverse(CryptoCoarseFundamentalUniverse(Market.Binance, self.UniverseSettings, self.UniverseSelectionFilter))\n",
    "\"\"\"\n",
    "    def UniverseSelectionFilter(self, crypto_coarse: List[CryptoCoarseFundamental]) -> List[Symbol]:\n",
    "        return [datum.Symbol for datum in crypto_coarse\n",
    "                if datum.Volume >= 100 \n",
    "                and datum.VolumeInUsd > 10000]\n",
    "\n",
    "    def OnData(self, slice: Slice) -> None:\n",
    "        if self.Portfolio.CashBook['BTC'].Amount == 0:\n",
    "            free_cash = self.Portfolio.CashBook['BUSD'].Amount * (1-self.Settings.FreePortfolioValuePercentage)\n",
    "            quantity = free_cash / slice[self.btcbusd].Price\n",
    "            quantity -= quantity % self.minimum_order_size\n",
    "            if quantity > 0:\n",
    "                self.MarketOrder(self.btcbusd, quantity)\n",
    "\"\"\""
   ]
  },
  {
   "cell_type": "code",
   "execution_count": null,
   "id": "bcee167a-2787-4b01-be0a-075811698f02",
   "metadata": {},
   "outputs": [],
   "source": []
  }
 ],
 "metadata": {
  "kernelspec": {
   "display_name": "Python 3 (ipykernel)",
   "language": "python",
   "name": "python3"
  },
  "language_info": {
   "codemirror_mode": {
    "name": "ipython",
    "version": 3
   },
   "file_extension": ".py",
   "mimetype": "text/x-python",
   "name": "python",
   "nbconvert_exporter": "python",
   "pygments_lexer": "ipython3",
   "version": "3.10.6"
  }
 },
 "nbformat": 4,
 "nbformat_minor": 5
}
