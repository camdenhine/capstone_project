{
 "cells": [
  {
   "cell_type": "code",
   "execution_count": 5,
   "id": "9c9da6d2-7ed1-4957-a4a6-843b74cd1669",
   "metadata": {},
   "outputs": [],
   "source": [
    "import pandas as pd\n",
    "import sqlite3 as db\n",
    "from yfapi import YahooFinanceAPI, Interval\n",
    "from datetime import datetime"
   ]
  },
  {
   "cell_type": "code",
   "execution_count": 3,
   "id": "14033aff-df8c-4972-bfa1-46f5acb9b9b6",
   "metadata": {},
   "outputs": [],
   "source": [
    "conn = db.connect('pricedata.db')"
   ]
  },
  {
   "cell_type": "code",
   "execution_count": 4,
   "id": "6862e814-d746-4ab7-90a0-6dc48942eb4f",
   "metadata": {},
   "outputs": [],
   "source": [
    "cn = conn.cursor()"
   ]
  },
  {
   "cell_type": "code",
   "execution_count": 6,
   "id": "96057792-f8ca-4ba9-aa24-7d469193d5cb",
   "metadata": {},
   "outputs": [],
   "source": [
    "dh = YahooFinanceAPI(Interval.DAILY)\n",
    "now = datetime(2022, 11, 26)\n",
    "then = datetime(2022, 11, 19)\n",
    "df = dh.get_ticker_data(\"BTC-USD\", then, now)"
   ]
  },
  {
   "cell_type": "code",
   "execution_count": 12,
   "id": "4706d1f3-74a3-4167-a735-b9a3072e6c3f",
   "metadata": {},
   "outputs": [
    {
     "data": {
      "text/html": [
       "<div>\n",
       "<style scoped>\n",
       "    .dataframe tbody tr th:only-of-type {\n",
       "        vertical-align: middle;\n",
       "    }\n",
       "\n",
       "    .dataframe tbody tr th {\n",
       "        vertical-align: top;\n",
       "    }\n",
       "\n",
       "    .dataframe thead th {\n",
       "        text-align: right;\n",
       "    }\n",
       "</style>\n",
       "<table border=\"1\" class=\"dataframe\">\n",
       "  <thead>\n",
       "    <tr style=\"text-align: right;\">\n",
       "      <th></th>\n",
       "      <th>Date</th>\n",
       "      <th>Open</th>\n",
       "      <th>High</th>\n",
       "      <th>Low</th>\n",
       "      <th>Close</th>\n",
       "      <th>Adj Close</th>\n",
       "      <th>Volume</th>\n",
       "    </tr>\n",
       "  </thead>\n",
       "  <tbody>\n",
       "    <tr>\n",
       "      <th>0</th>\n",
       "      <td>2022-11-19</td>\n",
       "      <td>16696.220703</td>\n",
       "      <td>16797.876953</td>\n",
       "      <td>16570.410156</td>\n",
       "      <td>16711.546875</td>\n",
       "      <td>16711.546875</td>\n",
       "      <td>1.610622e+10</td>\n",
       "    </tr>\n",
       "    <tr>\n",
       "      <th>1</th>\n",
       "      <td>2022-11-20</td>\n",
       "      <td>16712.919922</td>\n",
       "      <td>16746.779297</td>\n",
       "      <td>16248.692383</td>\n",
       "      <td>16291.832031</td>\n",
       "      <td>16291.832031</td>\n",
       "      <td>2.131338e+10</td>\n",
       "    </tr>\n",
       "    <tr>\n",
       "      <th>2</th>\n",
       "      <td>2022-11-21</td>\n",
       "      <td>16291.223633</td>\n",
       "      <td>16291.223633</td>\n",
       "      <td>15599.046875</td>\n",
       "      <td>15787.284180</td>\n",
       "      <td>15787.284180</td>\n",
       "      <td>3.742949e+10</td>\n",
       "    </tr>\n",
       "    <tr>\n",
       "      <th>3</th>\n",
       "      <td>2022-11-22</td>\n",
       "      <td>15782.300781</td>\n",
       "      <td>16253.047852</td>\n",
       "      <td>15656.606445</td>\n",
       "      <td>16189.769531</td>\n",
       "      <td>16189.769531</td>\n",
       "      <td>3.072683e+10</td>\n",
       "    </tr>\n",
       "    <tr>\n",
       "      <th>4</th>\n",
       "      <td>2022-11-23</td>\n",
       "      <td>16195.588867</td>\n",
       "      <td>16638.193359</td>\n",
       "      <td>16170.502930</td>\n",
       "      <td>16610.707031</td>\n",
       "      <td>16610.707031</td>\n",
       "      <td>3.295888e+10</td>\n",
       "    </tr>\n",
       "    <tr>\n",
       "      <th>5</th>\n",
       "      <td>2022-11-24</td>\n",
       "      <td>16611.636719</td>\n",
       "      <td>16771.474609</td>\n",
       "      <td>16501.767578</td>\n",
       "      <td>16604.464844</td>\n",
       "      <td>16604.464844</td>\n",
       "      <td>2.612904e+10</td>\n",
       "    </tr>\n",
       "    <tr>\n",
       "      <th>6</th>\n",
       "      <td>2022-11-25</td>\n",
       "      <td>16602.269531</td>\n",
       "      <td>16603.316406</td>\n",
       "      <td>16388.404297</td>\n",
       "      <td>16521.841797</td>\n",
       "      <td>16521.841797</td>\n",
       "      <td>1.867826e+10</td>\n",
       "    </tr>\n",
       "    <tr>\n",
       "      <th>7</th>\n",
       "      <td>2022-11-26</td>\n",
       "      <td>NaN</td>\n",
       "      <td>NaN</td>\n",
       "      <td>NaN</td>\n",
       "      <td>NaN</td>\n",
       "      <td>NaN</td>\n",
       "      <td>NaN</td>\n",
       "    </tr>\n",
       "  </tbody>\n",
       "</table>\n",
       "</div>"
      ],
      "text/plain": [
       "        Date          Open          High           Low         Close  \\\n",
       "0 2022-11-19  16696.220703  16797.876953  16570.410156  16711.546875   \n",
       "1 2022-11-20  16712.919922  16746.779297  16248.692383  16291.832031   \n",
       "2 2022-11-21  16291.223633  16291.223633  15599.046875  15787.284180   \n",
       "3 2022-11-22  15782.300781  16253.047852  15656.606445  16189.769531   \n",
       "4 2022-11-23  16195.588867  16638.193359  16170.502930  16610.707031   \n",
       "5 2022-11-24  16611.636719  16771.474609  16501.767578  16604.464844   \n",
       "6 2022-11-25  16602.269531  16603.316406  16388.404297  16521.841797   \n",
       "7 2022-11-26           NaN           NaN           NaN           NaN   \n",
       "\n",
       "      Adj Close        Volume  \n",
       "0  16711.546875  1.610622e+10  \n",
       "1  16291.832031  2.131338e+10  \n",
       "2  15787.284180  3.742949e+10  \n",
       "3  16189.769531  3.072683e+10  \n",
       "4  16610.707031  3.295888e+10  \n",
       "5  16604.464844  2.612904e+10  \n",
       "6  16521.841797  1.867826e+10  \n",
       "7           NaN           NaN  "
      ]
     },
     "execution_count": 12,
     "metadata": {},
     "output_type": "execute_result"
    }
   ],
   "source": [
    "df"
   ]
  },
  {
   "cell_type": "code",
   "execution_count": 9,
   "id": "9998c42b-0207-45fd-857f-b1e63f50f0ff",
   "metadata": {},
   "outputs": [
    {
     "data": {
      "text/plain": [
       "8"
      ]
     },
     "execution_count": 9,
     "metadata": {},
     "output_type": "execute_result"
    }
   ],
   "source": [
    "df.to_sql(\"BTC\", conn)"
   ]
  },
  {
   "cell_type": "code",
   "execution_count": 20,
   "id": "a761311a-7b42-4aa3-89ab-204779ae133e",
   "metadata": {},
   "outputs": [
    {
     "data": {
      "text/plain": [
       "<sqlite3.Cursor at 0x20eb8c81fc0>"
      ]
     },
     "execution_count": 20,
     "metadata": {},
     "output_type": "execute_result"
    }
   ],
   "source": [
    "cn.execute('select * from BTC')"
   ]
  },
  {
   "cell_type": "code",
   "execution_count": 11,
   "id": "3cf850d2-e379-487f-aeb0-50ac8fdf4ebd",
   "metadata": {},
   "outputs": [
    {
     "name": "stdout",
     "output_type": "stream",
     "text": [
      "[(0, '2022-11-19 00:00:00', 16696.220703, 16797.876953, 16570.410156, 16711.546875, 16711.546875, 16106223492.0), (1, '2022-11-20 00:00:00', 16712.919922, 16746.779297, 16248.692383, 16291.832031, 16291.832031, 21313378652.0), (2, '2022-11-21 00:00:00', 16291.223633, 16291.223633, 15599.046875, 15787.28418, 15787.28418, 37429485518.0), (3, '2022-11-22 00:00:00', 15782.300781, 16253.047852, 15656.606445, 16189.769531, 16189.769531, 30726828760.0), (4, '2022-11-23 00:00:00', 16195.588867, 16638.193359, 16170.50293, 16610.707031, 16610.707031, 32958875628.0), (5, '2022-11-24 00:00:00', 16611.636719, 16771.474609, 16501.767578, 16604.464844, 16604.464844, 26129037414.0), (6, '2022-11-25 00:00:00', 16602.269531, 16603.316406, 16388.404297, 16521.841797, 16521.841797, 18678255976.0), (7, '2022-11-26 00:00:00', None, None, None, None, None, None)]\n"
     ]
    }
   ],
   "source": [
    "print(cn.fetchall())"
   ]
  },
  {
   "cell_type": "code",
   "execution_count": null,
   "id": "4df16887-1a61-41f9-a787-b082cf921d9f",
   "metadata": {},
   "outputs": [],
   "source": [
    "cn.execute('select * from BTC')"
   ]
  },
  {
   "cell_type": "code",
   "execution_count": 21,
   "id": "619016a4-7a33-4024-94c4-8736ffd118c4",
   "metadata": {},
   "outputs": [],
   "source": [
    "l = cn.fetchall()"
   ]
  },
  {
   "cell_type": "code",
   "execution_count": 22,
   "id": "15cd8e24-beb8-4fb8-bd16-03969ad3a3e2",
   "metadata": {},
   "outputs": [
    {
     "name": "stdout",
     "output_type": "stream",
     "text": [
      "[(0, '2022-11-19 00:00:00', 16696.220703, 16797.876953, 16570.410156, 16711.546875, 16711.546875, 16106223492.0), (1, '2022-11-20 00:00:00', 16712.919922, 16746.779297, 16248.692383, 16291.832031, 16291.832031, 21313378652.0), (2, '2022-11-21 00:00:00', 16291.223633, 16291.223633, 15599.046875, 15787.28418, 15787.28418, 37429485518.0), (3, '2022-11-22 00:00:00', 15782.300781, 16253.047852, 15656.606445, 16189.769531, 16189.769531, 30726828760.0), (4, '2022-11-23 00:00:00', 16195.588867, 16638.193359, 16170.50293, 16610.707031, 16610.707031, 32958875628.0), (5, '2022-11-24 00:00:00', 16611.636719, 16771.474609, 16501.767578, 16604.464844, 16604.464844, 26129037414.0), (6, '2022-11-25 00:00:00', 16602.269531, 16603.316406, 16388.404297, 16521.841797, 16521.841797, 18678255976.0), (7, '2022-11-26 00:00:00', None, None, None, None, None, None)]\n"
     ]
    }
   ],
   "source": [
    "print(l)"
   ]
  },
  {
   "cell_type": "code",
   "execution_count": 26,
   "id": "b7a55e19-1fa8-45ca-96f9-2c81540ecdcb",
   "metadata": {},
   "outputs": [
    {
     "data": {
      "text/plain": [
       "str"
      ]
     },
     "execution_count": 26,
     "metadata": {},
     "output_type": "execute_result"
    }
   ],
   "source": [
    "type(l[0][1])"
   ]
  },
  {
   "cell_type": "code",
   "execution_count": 27,
   "id": "ddf23811-9375-4e84-81b7-c0d2778c26f7",
   "metadata": {},
   "outputs": [
    {
     "data": {
      "text/plain": [
       "RangeIndex(start=0, stop=8, step=1)"
      ]
     },
     "execution_count": 27,
     "metadata": {},
     "output_type": "execute_result"
    }
   ],
   "source": [
    "df.index"
   ]
  },
  {
   "cell_type": "code",
   "execution_count": 29,
   "id": "52cde2a9-9c35-43eb-abe6-a16ca80276fb",
   "metadata": {},
   "outputs": [],
   "source": [
    "df.set_index('Date',inplace=True)"
   ]
  },
  {
   "cell_type": "code",
   "execution_count": 31,
   "id": "237cf850-6a34-49c6-8323-9154353dc538",
   "metadata": {},
   "outputs": [
    {
     "data": {
      "text/plain": [
       "8"
      ]
     },
     "execution_count": 31,
     "metadata": {},
     "output_type": "execute_result"
    }
   ],
   "source": [
    "df.to_sql(\"BTC\", conn, if_exists='replace')"
   ]
  },
  {
   "cell_type": "code",
   "execution_count": 32,
   "id": "9aa0dbe1-3b7d-4b3e-89a2-94d54dd9497e",
   "metadata": {},
   "outputs": [
    {
     "data": {
      "text/plain": [
       "<sqlite3.Cursor at 0x20eb8c81fc0>"
      ]
     },
     "execution_count": 32,
     "metadata": {},
     "output_type": "execute_result"
    }
   ],
   "source": [
    "cn.execute('select * from BTC')"
   ]
  },
  {
   "cell_type": "code",
   "execution_count": 33,
   "id": "ba07424f-c542-487d-9ffb-256a6e64659d",
   "metadata": {},
   "outputs": [],
   "source": [
    "l2 = cn.fetchall()"
   ]
  },
  {
   "cell_type": "code",
   "execution_count": 34,
   "id": "1528d8d3-9141-4c67-9d2d-3cc306a6691d",
   "metadata": {},
   "outputs": [
    {
     "name": "stdout",
     "output_type": "stream",
     "text": [
      "[('2022-11-19 00:00:00', 16696.220703, 16797.876953, 16570.410156, 16711.546875, 16711.546875, 16106223492.0), ('2022-11-20 00:00:00', 16712.919922, 16746.779297, 16248.692383, 16291.832031, 16291.832031, 21313378652.0), ('2022-11-21 00:00:00', 16291.223633, 16291.223633, 15599.046875, 15787.28418, 15787.28418, 37429485518.0), ('2022-11-22 00:00:00', 15782.300781, 16253.047852, 15656.606445, 16189.769531, 16189.769531, 30726828760.0), ('2022-11-23 00:00:00', 16195.588867, 16638.193359, 16170.50293, 16610.707031, 16610.707031, 32958875628.0), ('2022-11-24 00:00:00', 16611.636719, 16771.474609, 16501.767578, 16604.464844, 16604.464844, 26129037414.0), ('2022-11-25 00:00:00', 16602.269531, 16603.316406, 16388.404297, 16521.841797, 16521.841797, 18678255976.0), ('2022-11-26 00:00:00', None, None, None, None, None, None)]\n"
     ]
    }
   ],
   "source": [
    "print(l2)"
   ]
  },
  {
   "cell_type": "code",
   "execution_count": 37,
   "id": "6e11e803-b4e5-41e8-b943-e604471c42bb",
   "metadata": {},
   "outputs": [
    {
     "data": {
      "text/plain": [
       "str"
      ]
     },
     "execution_count": 37,
     "metadata": {},
     "output_type": "execute_result"
    }
   ],
   "source": [
    "type(l2[0][0])"
   ]
  },
  {
   "cell_type": "code",
   "execution_count": 39,
   "id": "8fda01e1-21f7-4f52-a6ae-a4607d7602c2",
   "metadata": {},
   "outputs": [
    {
     "data": {
      "text/plain": [
       "Timestamp('2022-11-19 00:00:00')"
      ]
     },
     "execution_count": 39,
     "metadata": {},
     "output_type": "execute_result"
    }
   ],
   "source": [
    "df.index[0]"
   ]
  },
  {
   "cell_type": "code",
   "execution_count": 40,
   "id": "11777f10-5843-47d6-9858-a9cb710c811d",
   "metadata": {},
   "outputs": [],
   "source": [
    "df.index = df.index.strftime(\"%Y-%m-%d\")"
   ]
  },
  {
   "cell_type": "code",
   "execution_count": 41,
   "id": "3da7c0c9-2916-4547-a108-7830c9a7a1f2",
   "metadata": {},
   "outputs": [
    {
     "data": {
      "text/plain": [
       "Index(['2022-11-19', '2022-11-20', '2022-11-21', '2022-11-22', '2022-11-23',\n",
       "       '2022-11-24', '2022-11-25', '2022-11-26'],\n",
       "      dtype='object', name='Date')"
      ]
     },
     "execution_count": 41,
     "metadata": {},
     "output_type": "execute_result"
    }
   ],
   "source": [
    "df.index"
   ]
  },
  {
   "cell_type": "code",
   "execution_count": 42,
   "id": "cdfe2fe6-2fcd-4132-92e8-d0f93f60419a",
   "metadata": {},
   "outputs": [
    {
     "data": {
      "text/plain": [
       "'2022-11-19'"
      ]
     },
     "execution_count": 42,
     "metadata": {},
     "output_type": "execute_result"
    }
   ],
   "source": [
    "df.index[0]"
   ]
  },
  {
   "cell_type": "code",
   "execution_count": 43,
   "id": "360eb874-3ed5-42fb-bc73-13c395874f7a",
   "metadata": {},
   "outputs": [],
   "source": [
    "conn.commit()"
   ]
  },
  {
   "cell_type": "code",
   "execution_count": 44,
   "id": "0a26eebb-016a-4a94-9694-f4c6496b77bd",
   "metadata": {},
   "outputs": [],
   "source": [
    "conn.close()"
   ]
  },
  {
   "cell_type": "code",
   "execution_count": null,
   "id": "37eb570a-ebb4-456b-a353-3826fd2eaf96",
   "metadata": {},
   "outputs": [],
   "source": []
  }
 ],
 "metadata": {
  "kernelspec": {
   "display_name": "Python 3 (ipykernel)",
   "language": "python",
   "name": "python3"
  },
  "language_info": {
   "codemirror_mode": {
    "name": "ipython",
    "version": 3
   },
   "file_extension": ".py",
   "mimetype": "text/x-python",
   "name": "python",
   "nbconvert_exporter": "python",
   "pygments_lexer": "ipython3",
   "version": "3.10.6"
  }
 },
 "nbformat": 4,
 "nbformat_minor": 5
}
